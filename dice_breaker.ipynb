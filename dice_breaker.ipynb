{
 "cells": [
  {
   "cell_type": "code",
   "execution_count": 1,
   "id": "efdea944",
   "metadata": {
    "scrolled": true
   },
   "outputs": [
    {
     "name": "stdout",
     "output_type": "stream",
     "text": [
      "Rolling the die...\n",
      "The die value is:  5\n",
      "What is your favourite game to play?\n",
      "Roll again? yes/noyes\n",
      "Rolling the die...\n",
      "The die value is:  6\n",
      "What is one thing you are really good at?\n",
      "Roll again? yes/noyes\n",
      "Rolling the die...\n",
      "The die value is:  4\n",
      "Who is your favourite book or movie character?\n",
      "Roll again? yes/noyes\n",
      "Rolling the die...\n",
      "The die value is:  6\n",
      "What is one thing you are really good at?\n",
      "Roll again? yes/noyes\n",
      "Rolling the die...\n",
      "The die value is:  4\n",
      "Who is your favourite book or movie character?\n",
      "Roll again? yes/noyes\n",
      "Rolling the die...\n",
      "The die value is:  3\n",
      "what is the grossest food you have tried?\n",
      "Roll again? yes/noyes\n",
      "Rolling the die...\n",
      "The die value is:  5\n",
      "What is your favourite game to play?\n",
      "Roll again? yes/noyes\n",
      "Rolling the die...\n",
      "The die value is:  5\n",
      "What is your favourite game to play?\n",
      "Roll again? yes/noyes\n",
      "Rolling the die...\n",
      "The die value is:  2\n",
      "If you could choose a super power, what would it be?\n",
      "Roll again? yes/nono\n",
      "Program has ended\n"
     ]
    }
   ],
   "source": [
    "# The purpose of this program is to use the random module in python to roll a dice for our icebreaker today.\n",
    "# Korren is going to attempt to do this live, be prepared for typos.\n",
    "\n",
    "# import our random library\n",
    "import random\n",
    "\n",
    "# declare our variables to determine the smallest and the largest values we want to select.\n",
    "min = 1\n",
    "max = 6 \n",
    "\n",
    "# declare a variable to keep track of if we need to roll again\n",
    "roll_again = \"yes\"\n",
    "\n",
    "# start our loop\n",
    "while roll_again == \"yes\":\n",
    "    # print a message to indicate our die is rolling\n",
    "    print(\"Rolling the die...\")\n",
    "    \n",
    "    # declare var to get the die value\n",
    "    die_value = (random.randint(min,max))\n",
    "    \n",
    "    # print the die value\n",
    "    print(\"The die value is: \",die_value)\n",
    "    \n",
    "    # Create if statement to tell the program what it needs to do for each value\n",
    "    if die_value == 1:\n",
    "        print(\"If you were invisible for a day what would you do?\")\n",
    "    elif die_value == 2:\n",
    "        print(\"If you could choose a super power, what would it be?\")\n",
    "    elif die_value == 3:\n",
    "        print(\"what is the grossest food you have tried?\")\n",
    "    elif die_value == 4:\n",
    "        print(\"Who is your favourite book or movie character?\")\n",
    "    elif die_value == 5:\n",
    "        print(\"What is your favourite game to play?\")\n",
    "    else:\n",
    "        print(\"What is one thing you are really good at?\")\n",
    "        \n",
    "    # prompt to roll again\n",
    "    roll_again = input(\"Roll again? yes/no\")\n",
    "\n",
    "    # Ending the program and error handling \n",
    "    # if roll_again == \"no\":\n",
    "    #     print(\"you have selected no, program terminating\")\n",
    "    # elif roll_again != \"yes\" or roll_again != \"no\":\n",
    "    #     print(\"invalid entry, program terminating\")  \n",
    "\n",
    "\n",
    "# print program ended\n",
    "print(\"Program has ended\")"
   ]
  },
  {
   "cell_type": "code",
   "execution_count": null,
   "id": "7bf2a730",
   "metadata": {},
   "outputs": [],
   "source": []
  }
 ],
 "metadata": {
  "kernelspec": {
   "display_name": "Python 3 (ipykernel)",
   "language": "python",
   "name": "python3"
  },
  "language_info": {
   "codemirror_mode": {
    "name": "ipython",
    "version": 3
   },
   "file_extension": ".py",
   "mimetype": "text/x-python",
   "name": "python",
   "nbconvert_exporter": "python",
   "pygments_lexer": "ipython3",
   "version": "3.10.9"
  }
 },
 "nbformat": 4,
 "nbformat_minor": 5
}
